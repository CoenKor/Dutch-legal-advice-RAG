{
 "cells": [
  {
   "cell_type": "markdown",
   "id": "5e25ea09-74d6-47e6-bad6-e922f52c3532",
   "metadata": {},
   "source": [
    "# Personal Information\n",
    "Name: **Coen Korevaar**\n",
    "\n",
    "StudentID: **13441728**\n",
    "\n",
    "Email: [**Coen.korevaar@student.uva.nl**](coen.korevaar@student.uva.nl)\n",
    "\n",
    "Github: [**https://github.com/CoenKor/Dutch-legal-advice-RAG.git**](https://github.com/CoenKor/Dutch-legal-advice-RAG.git)\n",
    "\n",
    "Submitted on: **22-03-2024**"
   ]
  },
  {
   "cell_type": "markdown",
   "id": "e3cf6243-adfe-4eb8-bba3-bb2835079abd",
   "metadata": {},
   "source": [
    "# Data Context\n",
    "The dataset of this project is from the website named ‘Rechtspraak.nl’. Rechtspraak.nl is the official website of the Dutch judiciary which offers a platform for public access to judicial information. It is a central portal for finding information about different court procedures, judicial decisions, and the organization of the courts in the Netherlands. The searchable database makes it an invaluable resource for legal professionals, researchers, and the general public interested in the outcomes of specific cases or the legal precedents set by the Dutch judiciary.\n",
    "\n",
    "The dataset contains a collection of law cases from the Netherlands. The dataset covers cases from the full calendar year from January 1, 2021, to January 1, 2022. It is important to note that the scope of this dataset is restricted to criminal law, thereby excluding any cases that fall outside of this domain. The criminal law cases within the dataset are diverse, ranging from minor traffic infractions to grave crimes such as murder and manslaughter. Included within are also cases involving sexual offenses, assault, child abuse, fraud, and other crimes that disrupt public order. The dataset does not overlook judicial considerations such as pre-trial detention, the issuance of sentences, and appeals, as well as specialized branches like juvenile and magistrate criminal law. Also captured are instances of conditional release before and after the legislation change on July 1, 2021, the confiscation of unlawfully gained advantages, theft, and burglary, along with instances where complaints were not prosecuted due to the absence of a criminal offense. This data will be the foundation of the Retrieval Augmented Generation (RAG) model that will create legal advice, such as relevant arguments to use in a case, based on different case descriptions.\n"
   ]
  },
  {
   "cell_type": "markdown",
   "id": "a833d964-56e1-49c7-8172-7435357624aa",
   "metadata": {},
   "source": [
    "# Data Description\n",
    "In the Data Description section of this thesis, a comprehensive analysis of the dataset is conducted which consists of textual data from criminal law cases. Utilizing the df.shape function in Python, gives that the dataset contains 25,653 entries, organized across 13 distinctive features.\n",
    "\n",
    "The following are descriptions of the different features and their corresponding datatype:\n",
    "\n",
    "**ECLI:**\n",
    "Unique identifier for each court case\n",
    "\n",
    "*Datatype:* object\n",
    "\n",
    "**id:**\n",
    "Unique identifier for each row\n",
    "\n",
    "*Datatype:* Int64\n",
    "\n",
    "**title:**\n",
    "Indicates the chronological part (number) of the case description and the type of the row\n",
    "\n",
    "*Datatype:* Int64\n",
    "\n",
    "**type:**\n",
    "Specifies the type of the row in the entire case description\n",
    "\n",
    "*Datatype:* object\n",
    "\n",
    "**data:**\n",
    "Actual textual data representing various types in the court case description\n",
    "\n",
    "*Datatype:* object\n",
    "\n",
    "**articles:**\n",
    "Dutch laws (articles) referenced in the court case\n",
    "\n",
    "*Datatype:* object\n",
    "\n",
    "**procedure:**\n",
    "Different procedures involved in a court case\n",
    "\n",
    "*Datatype:* object\n",
    "\n",
    "**date:**\n",
    "Date when the court case took place\n",
    "\n",
    "*Datatype:* object\n",
    "\n",
    "**straffen:**\n",
    "The kind of punishment imposed during the court case\n",
    "\n",
    "*Datatype:* object\n",
    "\n",
    "**hoofdstraf:**\n",
    "The primary and most significant punishment given during the court case\n",
    "\n",
    "*Datatype:* object\n",
    "\n",
    "**straf_hoogte:**\n",
    "Numerical representation of the punishment, e.g., the number of years for a prison sentence or the amount of money for a fine\n",
    "\n",
    "*Datatype:* float\n",
    "\n",
    "\n",
    "This dataset contains information from 2,860 unique criminal law cases. The apparent discrepancy between the number of cases and the dataset entries is due to the varied types of documentation associated with each court case. These entries represent different facets of the legal proceedings, capturing the complexity and depth of judicial documentation.\n",
    "\n",
    "Each entry is a part of a larger case file and can be categorized as follows:\n",
    "\n",
    "1. **Process flow**: The chronological sequence of legal events and proceedings.\n",
    "2. **Declaration of proven facts**: The formal statement acknowledging established legal facts in a case.\n",
    "3. **Considerations**: Factors or thoughts taken into account before making a legal decision or judgment.\n",
    "4. **Decision**: The final legal conclusion or resolution reached after considering all relevant information.\n",
    "5. **Indictment**: The formal accusation or charge presented against a person in a legal case.\n",
    "6. **Determination of criminal liability**: The legal process of establishing whether a person is criminally responsible.\n",
    "7. **Legal provisions**: Rules and regulations set forth by law governing specific legal actions or behaviors.\n",
    "8. **Introduction**: The opening section providing initial background information in a legal document or proceeding.\n",
    "9. **Prosecution's demand or claim**: Specific requests made by the prosecuting party in a legal case, often regarding punishments.\n",
    "10. **Seizure**: The legal act of taking possession of property or assets as part of a legal process.\n",
    "11. **Sentencing**: The formal determination and imposition of legal punishment or penalty upon a convicted person.\n",
    "12. **Preliminary questions**: Initial legal inquiries or issues addressed before the main proceedings in a case.\n",
    "13. **Miscellaneous**: Other legal matters that do not fall into specific categories.\n",
    "14. **Identification**: The legal process of confirming and establishing the identity of individuals involved in a case.\n",
    "15. **Injured parties**: Individuals or entities recognized as victims in a legal proceeding, having suffered harm, damage, or loss.\n",
    "\n",
    "\n",
    "### Analysis 1\n",
    "\n",
    "The df.shape and df.head(40) give a lot of information about this dataset regarding missing values, data types and how the data values are structured in the dataset. The ‘articles’, ‘straffen’, ‘hoofdstraf’ and ‘straf_hoogte’ columns have a lot of missing values. This is expected, given that the ‘articles’ values are only present in the type ‘wettelijke voorstellen’ and the other three in the type ‘beslissing’. These columns become particularly relevant because this is the stage in the entire court case procedure where they are addressed. The other columns don’t have missing values. \n",
    "\n",
    "The summary statistics of numerical variables seems less relevant as both unique identifiers (id and section_id) and the severity of the punishment (whether in terms of prison sentence duration or fine amount) are not particularly useful. This is due to the variable nature of the punishment, ranging from a duration in prison years to a fine.  \n",
    "\n",
    "The summary statistics of categorical variables gives a good overview of the categorical variables present in the dataset, especially the unique values of each variable. Because of this insight, we see six unique values for punishments. This information brings on a detailed examination of each possible punishment for further insights.  \n",
    "\n",
    "The unique values of the ‘types’ column were also printed to understand the column and the possible values. This also applies to the column ‘procedure’ which doesn’t seem relevant at first sight but can be relevant in the future when the RAG model will be fine-tuned. This is because this column gives information about the specific procedure which can also impact the arguments used in a court case. All columns appear to hold relevance for the RAG model.\n",
    "\n",
    "### Analysis 2\n",
    "\n",
    "The identification of the thirty most common non-stop words without numerical values is considered irrelevant as these are standard terms used in court cases. Attempts to improve results by incorporating an array of standard words yielded limited success, given the diverse usage of such words in legal contexts. Similarly, extracting relevant topics from court cases proves challenging due to the rarity of these words in the dataset. However, this limitation does not hinder the RAG model, which will focus more on the rare words (topics) in the case descriptions.\n",
    "\n",
    "### Analysis 3\n",
    "\n",
    "The sentiment analysis revealed that the majority of the data returned neutral values, which is not surprising considering the frequent use of a neutral sentiment in legal cases. However, it is noteworthy that 63 cases showed a sentiment score above 0.5, indicating either a positive or negative sentiment. These are more outliers in our opinion. Lawyers, judges and the person who describes the cases have to keep a neutral sentiment during all court cases. \n",
    "\n",
    "### Analysis 4\n",
    "\n",
    "An examination of word distribution in the process flow and introduction reveals a notable difference. The introduction exhibits a broader distribution than the process flow. So, for correlating the number of words in a case with the severity of imposed penalties, the introduction data is prioritized.\n",
    "\n",
    "\n",
    "This correlation analysis examines the relationship between the number of words in the case introduction and the severity of punishments. Some types of punishments show a correlation with the length of the introduction and the severity of the punishments. Specifically, the amount of a fine exhibits a strong positive correlation with the number of words in the case introduction. Therefore, the longer the case, the higher the fine. Additionally, imprisonment has a moderate negative correlation, while community service shows a moderate positive correlation.\n",
    "\n",
    "Efforts to identify the number of cases of each type in the dataset faced challenges due to the absence of a clear column containing this information. Attempting to extract this information from the text of every claim in a court case proved successful for only a hundred cases. Fortunately, the integration of a vector database with an LLM will eliminate the need for a structured description of the case types, ensuring a more efficient and accurate categorization process.\n",
    "\n"
   ]
  },
  {
   "cell_type": "markdown",
   "id": "f7243e63-5ee5-4ae4-85d0-d73ef2eb5938",
   "metadata": {},
   "source": [
    "# Appendix: Code Used"
   ]
  },
  {
   "cell_type": "markdown",
   "id": "b582b299-f599-4140-a454-bcbfdeeb273f",
   "metadata": {},
   "source": [
    "### Data Loading"
   ]
  },
  {
   "cell_type": "code",
   "execution_count": 49,
   "id": "534317db-d881-4e33-a358-754e2881e8bd",
   "metadata": {},
   "outputs": [],
   "source": [
    "# Imports\n",
    "import os\n",
    "import numpy as np\n",
    "import pandas as pd\n",
    "from collections import Counter\n",
    "import re\n",
    "import nltk\n",
    "from gensim import corpora, models\n",
    "import string\n",
    "from nltk.sentiment.vader import SentimentIntensityAnalyzer"
   ]
  },
  {
   "cell_type": "code",
   "execution_count": 50,
   "id": "9f0cf9be-2cac-4227-957f-ad893212e70c",
   "metadata": {},
   "outputs": [],
   "source": [
    "df = pd.read_csv('parsed_data.csv')"
   ]
  },
  {
   "cell_type": "markdown",
   "id": "b4df9546-a6d7-4678-aca6-cd13d5f3c79a",
   "metadata": {},
   "source": [
    "### Analysis 1: \n",
    "Make sure to add some explanation of what you are doing in your code. This will help you and whoever will read this a lot in following your steps."
   ]
  },
  {
   "cell_type": "code",
   "execution_count": 51,
   "id": "91fd6742-cdb1-4209-9669-953b8abda9f1",
   "metadata": {},
   "outputs": [
    {
     "data": {
      "text/plain": [
       "(25653, 13)"
      ]
     },
     "execution_count": 51,
     "metadata": {},
     "output_type": "execute_result"
    }
   ],
   "source": [
    "df.shape"
   ]
  },
  {
   "cell_type": "code",
   "execution_count": 52,
   "id": "08c3ca79-d62a-4e34-a360-bfb0ddb9a78a",
   "metadata": {},
   "outputs": [
    {
     "name": "stdout",
     "output_type": "stream",
     "text": [
      "<class 'pandas.core.frame.DataFrame'>\n",
      "RangeIndex: 25653 entries, 0 to 25652\n",
      "Data columns (total 13 columns):\n",
      " #   Column        Non-Null Count  Dtype  \n",
      "---  ------        --------------  -----  \n",
      " 0   ECLI          25653 non-null  object \n",
      " 1   id            25653 non-null  int64  \n",
      " 2   section_id    25653 non-null  int64  \n",
      " 3   title         25636 non-null  object \n",
      " 4   type          25653 non-null  object \n",
      " 5   data          25653 non-null  object \n",
      " 6   articles      25653 non-null  object \n",
      " 7   subject       25653 non-null  object \n",
      " 8   procedure     25653 non-null  object \n",
      " 9   date          25653 non-null  object \n",
      " 10  straffen      2945 non-null   object \n",
      " 11  hoofdstraf    2544 non-null   object \n",
      " 12  straf_hoogte  2945 non-null   float64\n",
      "dtypes: float64(1), int64(2), object(10)\n",
      "memory usage: 2.5+ MB\n"
     ]
    }
   ],
   "source": [
    "df.info()"
   ]
  },
  {
   "cell_type": "code",
   "execution_count": null,
   "id": "ae3edb55-7b44-47b6-9e01-e48637b2b41d",
   "metadata": {},
   "outputs": [],
   "source": [
    "df.head(40)"
   ]
  },
  {
   "cell_type": "code",
   "execution_count": 54,
   "id": "a889a6c7-aed8-4a0f-9925-c4f8e2fce1d5",
   "metadata": {},
   "outputs": [
    {
     "name": "stdout",
     "output_type": "stream",
     "text": [
      "We work with 2860 criminal law cases\n"
     ]
    }
   ],
   "source": [
    "# Check for unique cases\n",
    "unique_eclis = df['ECLI'].unique()\n",
    "print(\"We work with \" + str(len(unique_eclis)) + \" criminal law cases\")"
   ]
  },
  {
   "cell_type": "code",
   "execution_count": 55,
   "id": "39804787-2059-444d-900e-d13d3d41f209",
   "metadata": {},
   "outputs": [
    {
     "name": "stdout",
     "output_type": "stream",
     "text": [
      "\n",
      "Number of Duplicates: 0\n",
      "\n",
      "Summary Statistics for Numerical Variables:\n",
      "                 id    section_id  straf_hoogte\n",
      "count  25653.000000  25653.000000    2945.00000\n",
      "mean   12972.875102      4.346041    1455.00747\n",
      "std     7593.388990      3.236321   18422.41813\n",
      "min        0.000000      0.000000       0.00000\n",
      "25%     6419.000000      2.000000       1.00000\n",
      "50%    12832.000000      4.000000      90.00000\n",
      "75%    19483.000000      7.000000     500.00000\n",
      "max    26369.000000     42.000000  900000.00000\n",
      "\n",
      "Summary Statistics for Categorical Variables:\n",
      "                          ECLI                 title          type  \\\n",
      "count                    25653                 25636         25653   \n",
      "unique                    2860                  2145            15   \n",
      "top     ECLI:NL:RBGEL:2021:993  2 De tenlastelegging  overwegingen   \n",
      "freq                        43                   902          4568   \n",
      "\n",
      "                                                     data articles  \\\n",
      "count                                               25653    25653   \n",
      "unique                                              20849     1817   \n",
      "top     3 De voorvragen  De dagvaarding is geldig. De ...       []   \n",
      "freq                                                  326    23228   \n",
      "\n",
      "               subject                   procedure        date  \\\n",
      "count            25653                       25653       25653   \n",
      "unique               4                           6         256   \n",
      "top     ['Strafrecht']  Eerste aanleg - meervoudig  2021-07-09   \n",
      "freq             25177                       22089         293   \n",
      "\n",
      "                  straffen       hoofdstraf  \n",
      "count                 2945             2544  \n",
      "unique                 954                6  \n",
      "top     (0, 0, 0, 0, 0, 0)  gevangenisstraf  \n",
      "freq                   401             1431  \n"
     ]
    }
   ],
   "source": [
    "# Check for duplicates\n",
    "duplicates = df.duplicated().sum()\n",
    "print(\"\\nNumber of Duplicates:\", duplicates)\n",
    "\n",
    "# Summary statistics for numerical variables\n",
    "summary_numerical = df.describe()\n",
    "print(\"\\nSummary Statistics for Numerical Variables:\")\n",
    "print(summary_numerical)\n",
    "\n",
    "# Summary statistics for categorical variables\n",
    "summary_categorical = df.describe(include='object')\n",
    "print(\"\\nSummary Statistics for Categorical Variables:\")\n",
    "print(summary_categorical)\n"
   ]
  },
  {
   "cell_type": "code",
   "execution_count": 56,
   "id": "4ba26941-5856-4003-b10c-5efe068a086d",
   "metadata": {},
   "outputs": [
    {
     "name": "stdout",
     "output_type": "stream",
     "text": [
      "[nan 'vrijspraak' 'gevangenisstraf' 'geldboete' 'taakstraf' 'hechtenis'\n",
      " 'TBS']\n"
     ]
    }
   ],
   "source": [
    "# Check for unique punishments\n",
    "unique_values = df['hoofdstraf'].unique()\n",
    "print(unique_values)"
   ]
  },
  {
   "cell_type": "code",
   "execution_count": 57,
   "id": "ced5ffbd-d3d2-4e65-8e19-cbb031c44046",
   "metadata": {},
   "outputs": [
    {
     "name": "stdout",
     "output_type": "stream",
     "text": [
      "vrijspraak\n",
      "                 id  section_id  straf_hoogte\n",
      "count    395.000000  395.000000         395.0\n",
      "mean   12780.865823    5.837975           1.0\n",
      "std     7032.158772    3.205971           0.0\n",
      "min        8.000000    1.000000           1.0\n",
      "25%     7394.000000    4.000000           1.0\n",
      "50%    12218.000000    5.000000           1.0\n",
      "75%    17701.500000    8.000000           1.0\n",
      "max    26369.000000   18.000000           1.0\n",
      "\n",
      "gevangenisstraf\n",
      "                 id   section_id  straf_hoogte\n",
      "count   1431.000000  1431.000000   1431.000000\n",
      "mean   13093.436758     8.914745    721.412998\n",
      "std     7742.132023     1.554510    959.730894\n",
      "min       17.000000     4.000000      1.000000\n",
      "25%     6384.500000     8.000000    182.000000\n",
      "50%    13521.000000     9.000000    425.000000\n",
      "75%    19950.000000    10.000000    912.000000\n",
      "max    26362.000000    25.000000  10950.000000\n",
      "\n",
      "geldboete\n",
      "                 id  section_id   straf_hoogte\n",
      "count    128.000000  128.000000     128.000000\n",
      "mean   13308.984375    8.750000   25210.093750\n",
      "std     8046.645663    1.944101   85203.164304\n",
      "min       26.000000    7.000000       1.000000\n",
      "25%     5207.750000    8.000000     550.000000\n",
      "50%    14048.500000    8.000000    2297.500000\n",
      "75%    17927.750000    9.000000   16525.000000\n",
      "max    26303.000000   18.000000  900000.000000\n",
      "\n",
      "taakstraf\n",
      "                 id  section_id  straf_hoogte\n",
      "count    307.000000  307.000000    307.000000\n",
      "mean   14594.859935    8.736156      5.270358\n",
      "std     7888.387532    1.636620      2.541525\n",
      "min       47.000000    5.000000      1.000000\n",
      "25%     6856.000000    8.000000      3.000000\n",
      "50%    15922.000000    8.000000      5.000000\n",
      "75%    21419.000000   10.000000      7.000000\n",
      "max    26255.000000   16.000000     10.000000\n",
      "\n",
      "hechtenis\n",
      "                 id  section_id  straf_hoogte\n",
      "count    133.000000  133.000000    133.000000\n",
      "mean    9942.571429    8.939850    177.443609\n",
      "std     8125.061876    1.589546    142.553840\n",
      "min      115.000000    2.000000      1.000000\n",
      "25%     2718.000000    8.000000     73.000000\n",
      "50%     7702.000000    9.000000    130.000000\n",
      "75%    15803.000000   10.000000    269.000000\n",
      "max    26206.000000   16.000000    487.000000\n",
      "\n",
      "TBS\n",
      "                 id  section_id  straf_hoogte\n",
      "count    150.000000  150.000000         150.0\n",
      "mean   12259.840000    7.526667           1.0\n",
      "std     6821.963909    2.884107           0.0\n",
      "min      499.000000    2.000000           1.0\n",
      "25%     6810.250000    5.000000           1.0\n",
      "50%    11754.500000    8.000000           1.0\n",
      "75%    18248.500000    9.000000           1.0\n",
      "max    26087.000000   18.000000           1.0\n",
      "\n"
     ]
    }
   ],
   "source": [
    "straffen = ['vrijspraak', 'gevangenisstraf', 'geldboete', 'taakstraf', 'hechtenis', 'TBS']\n",
    "\n",
    "# Summary statistics for each punishment\n",
    "for i in straffen:\n",
    "    print(i)\n",
    "    print(df[df['hoofdstraf'] == i].describe())\n",
    "    print()\n"
   ]
  },
  {
   "cell_type": "code",
   "execution_count": 58,
   "id": "18cd2bf0-0c4d-4d38-814c-0fe4a19bbbee",
   "metadata": {},
   "outputs": [
    {
     "name": "stdout",
     "output_type": "stream",
     "text": [
      "['procesverloop' 'bewezenverklaring' 'overwegingen' 'beslissing'\n",
      " 'tenlastelegging' 'bepaling strafbaarheid' 'wettelijke voorschriften'\n",
      " 'inleiding' 'eis' 'beslag' 'strafoplegging' 'voorvragen' 'overig'\n",
      " 'identificatie' 'benadeelde partijen']\n"
     ]
    }
   ],
   "source": [
    "# Check for unique types\n",
    "unique_types = df['type'].unique()\n",
    "print(unique_types)"
   ]
  },
  {
   "cell_type": "code",
   "execution_count": 59,
   "id": "c9139199-2cf4-4b25-b479-cf4cec6c4562",
   "metadata": {},
   "outputs": [
    {
     "name": "stdout",
     "output_type": "stream",
     "text": [
      "['Eerste aanleg - enkelvoudig' 'Eerste aanleg - meervoudig'\n",
      " 'Op tegenspraak' 'Tussenuitspraak' 'Mondelinge uitspraak'\n",
      " 'Proces-verbaal']\n"
     ]
    }
   ],
   "source": [
    "# Check for unique procedures\n",
    "unique_procedures = df['procedure'].unique()\n",
    "print(unique_procedures)"
   ]
  },
  {
   "cell_type": "markdown",
   "id": "c2b796dc-f69d-4686-b802-bd0d8f679ee8",
   "metadata": {},
   "source": [
    "### Analysis 2: "
   ]
  },
  {
   "cell_type": "code",
   "execution_count": 60,
   "id": "c33b453f-1bc2-4cad-8021-e548d307f154",
   "metadata": {},
   "outputs": [
    {
     "name": "stderr",
     "output_type": "stream",
     "text": [
      "[nltk_data] Downloading package stopwords to\n",
      "[nltk_data]     /Users/coenkorevaar/nltk_data...\n",
      "[nltk_data]   Package stopwords is already up-to-date!\n"
     ]
    },
    {
     "name": "stdout",
     "output_type": "stream",
     "text": [
      "Most common non-stop words after removing numeric characters:\n",
      "verdachte : 211392\n",
      "rechtbank : 87312\n",
      "slachtoffer : 63226\n",
      "naam : 57577\n",
      "ten : 52938\n",
      "feit : 44414\n",
      "medeverdachte : 43856\n",
      "benadeelde : 37301\n",
      "bewezen : 30499\n",
      "partij : 27178\n",
      "feiten : 26233\n",
      "justitie : 25308\n",
      "officier : 23939\n",
      "laste : 22642\n",
      "ter : 21778\n",
      "vordering : 19871\n",
      "artikel : 19608\n",
      "oordeel : 18723\n",
      "verklaard : 17036\n",
      "verdediging : 16650\n",
      "schade : 16617\n",
      "althans : 16272\n",
      "bedrag : 16080\n",
      "s : 15776\n",
      "acht : 15314\n",
      "gemaakt : 14858\n",
      "gelegde : 14569\n",
      "standpunt : 14165\n",
      "uur : 13666\n",
      "sprake : 13644\n"
     ]
    }
   ],
   "source": [
    "nltk.download('stopwords')\n",
    "from nltk.corpus import stopwords\n",
    "\n",
    "# Drop rows with missing text data\n",
    "text_data = df['data'].dropna()\n",
    "\n",
    "# Concatenate all text data into a single string\n",
    "all_text = ' '.join(text_data)\n",
    "\n",
    "# Remove numeric characters\n",
    "all_text = re.sub(r'\\b\\d+\\b', '', all_text)\n",
    "\n",
    "# Convert to lowercase and find words\n",
    "words = re.findall(r'\\b\\w+\\b', all_text.lower()) \n",
    "\n",
    "# Exclude stop words\n",
    "stop_words = set(stopwords.words('dutch'))\n",
    "filtered_words = [word for word in words if word not in stop_words]\n",
    "\n",
    "# Count word frequencies\n",
    "word_freq = Counter(filtered_words)\n",
    "\n",
    "# Print the most common words\n",
    "print(\"Most common non-stop words after removing numeric characters:\")\n",
    "for word, freq in word_freq.most_common(30):\n",
    "    print(word, ':', freq)"
   ]
  },
  {
   "cell_type": "code",
   "execution_count": null,
   "id": "e004621f-8b18-4e23-b8c0-f39666baab8b",
   "metadata": {},
   "outputs": [],
   "source": [
    "nltk.download('punkt')\n",
    "from nltk.tokenize import word_tokenize\n",
    "\n",
    "# Define the list of standard words used in court cases that should not be included when searching for relevant topics\n",
    "standard_words = [\"advocaat\", \"vonnis\", \"arrest\", \"getuige\", \"proces-verbaal\", \"verweerder\", \"eiser\", \"griffier\", \"akte\", \"pleidooi\",\n",
    "                    \"cassatie\", \"arrestatie\", \"bewijsstuk\", \"aanklacht\", \"verhoor\", \"vonnis\", \"verdachte\", \"slachtoffer\", \"wraking\",\n",
    "                    \"procedure\", \"beroep\", \"deskundige\", \"strafrechtelijk\", \"civielrechtelijk\", \"rechtszaak\", \"juridisch\", \"proceskosten\",\n",
    "                    \"vrijspraak\", \"schadevergoeding\", \"verjaring\", \"bewijslast\", \"kortgeding\", \"hoger beroep\", \"strafmaat\", \"gedaagde\",\n",
    "                    \"belastingrecht\", \"contractbreuk\", \"pleitnota\", \"getuigenverhoor\", \"wrakingsverzoek\"]\n",
    "\n",
    "transcriptions = df[df['type'] == 'procesverloop']['data']\n",
    "# Tokenize the transcriptions\n",
    "df['tokens'] = transcriptions.apply(lambda x: word_tokenize(x.lower()))\n",
    "\n",
    "# Remove NaN values from the 'tokens' column\n",
    "df = df.dropna(subset=['tokens'])\n",
    "\n",
    "# Remove stopwords and punctuation, and add standard words\n",
    "stop_words = set(stopwords.words('dutch')) \n",
    "stop_words.update(set(string.punctuation))\n",
    "stop_words.update(set(standard_words))\n",
    "\n",
    "# Apply the stopwords to the 'tokens' column\n",
    "df['tokens'] = df['tokens'].apply(lambda x: [word for word in x if word not in stop_words])\n",
    "\n",
    "# Create a corpus from the document-term matrix\n",
    "dictionary = corpora.Dictionary(df['tokens'])\n",
    "corpus = [dictionary.doc2bow(text) for text in df['tokens']]\n",
    "\n",
    "# Perform LDA for topic modeling\n",
    "lda_model = models.LdaModel(corpus, num_topics=5, id2word=dictionary, passes=15)\n",
    "\n",
    "# Print the topics\n",
    "for idx, topic in lda_model.print_topics(-1):\n",
    "    print('Topic: {} \\nWords: {}'.format(idx, topic))\n",
    "df['topic_assignment'] = df['tokens'].apply(lambda x: lda_model[dictionary.doc2bow(x)])\n",
    "\n",
    "# Print the most likely topics for each document\n",
    "for index, row in df.iterrows():\n",
    "    print(\"Document ID: \", index)\n",
    "    print(\"Topic Distribution: \", row['topic_assignment'])\n",
    "    print()"
   ]
  },
  {
   "cell_type": "markdown",
   "id": "f273bea3-ecaa-4fac-83d0-5fe547b7873d",
   "metadata": {},
   "source": [
    "### Analysis 3:"
   ]
  },
  {
   "cell_type": "code",
   "execution_count": null,
   "id": "6aa47168-1bc6-49cb-8d78-d43dd8d1d955",
   "metadata": {},
   "outputs": [],
   "source": [
    "# Initialize the SentimentIntensityAnalyzer\n",
    "analyzer = SentimentIntensityAnalyzer()\n",
    "\n",
    "# Filter the rows where 'type' is equal to 'inleiding'\n",
    "cases = df[df['type'] == 'inleiding']\n",
    "\n",
    "# Filter the cases where at least half are positive or negative\n",
    "positive_cases = cases[cases['data'].apply(lambda x: analyzer.polarity_scores(x)['compound'] >= 0.5)]\n",
    "negative_cases = cases[cases['data'].apply(lambda x: analyzer.polarity_scores(x)['compound'] <= -0.5)]\n",
    "\n",
    "cases_half_positive_or_negative = pd.concat([positive_cases, negative_cases])\n",
    "\n",
    "# Print the selected cases with sentiment values\n",
    "for index, row in cases_half_positive_or_negative.iterrows():\n",
    "    print(f\"Case {index}:\")\n",
    "    print(row['data'])\n",
    "    sentiment_scores = analyzer.polarity_scores(row['data'])\n",
    "    print(f\"Sentiment values: {sentiment_scores}\")\n",
    "    print()"
   ]
  },
  {
   "cell_type": "code",
   "execution_count": 18,
   "id": "5242f1a5-7898-428b-83e2-8d9d1c519923",
   "metadata": {},
   "outputs": [
    {
     "name": "stdout",
     "output_type": "stream",
     "text": [
      "63\n"
     ]
    }
   ],
   "source": [
    "# Check the number of cases with a sentiment of more than 0.49 or -0.49 \n",
    "print(len(zaken_voor_helft_positief_of_negatief))"
   ]
  },
  {
   "cell_type": "markdown",
   "id": "8c64cd9d-6626-4d43-92f1-80f05b1670a8",
   "metadata": {},
   "source": [
    "### Analysis 4:"
   ]
  },
  {
   "cell_type": "code",
   "execution_count": 15,
   "id": "d665d896-91a3-41e6-91ed-f7a62c4ffdce",
   "metadata": {},
   "outputs": [
    {
     "data": {
      "text/plain": [
       "<AxesSubplot:>"
      ]
     },
     "execution_count": 15,
     "metadata": {},
     "output_type": "execute_result"
    },
    {
     "data": {
      "image/png": "[encoded data removed]",
      "text/plain": [
       "<Figure size 640x480 with 1 Axes>"
      ]
     },
     "metadata": {},
     "output_type": "display_data"
    }
   ],
   "source": [
    "# Check the number of words distribution for all case progressions \n",
    "df[df['type'] == 'procesverloop']['data'].str.len().hist()"
   ]
  },
  {
   "cell_type": "code",
   "execution_count": 29,
   "id": "a505ce81-62c3-4bb5-93ad-3779ab2cd5af",
   "metadata": {},
   "outputs": [
    {
     "data": {
      "text/plain": [
       "<AxesSubplot:>"
      ]
     },
     "execution_count": 29,
     "metadata": {},
     "output_type": "execute_result"
    },
    {
     "data": {
      "image/png": "[encoded data removed]",
      "text/plain": [
       "<Figure size 640x480 with 1 Axes>"
      ]
     },
     "metadata": {},
     "output_type": "display_data"
    }
   ],
   "source": [
    "# Check the number of words distribution for all case introductions\n",
    "df[df['type'] == 'inleiding']['data'].str.len().hist()"
   ]
  },
  {
   "cell_type": "code",
   "execution_count": 25,
   "id": "48ea062d-9a8d-4092-89fa-c6dee0093b69",
   "metadata": {},
   "outputs": [
    {
     "name": "stdout",
     "output_type": "stream",
     "text": [
      "Verkeersovertredingen: 0\n",
      "Zedenmisdrijf: 2\n",
      "Fraude: 1\n",
      "Geweldsdelicten: 0\n",
      "Mishandeling: 52\n",
      "Kindermishandeling: 0\n",
      "Moord en doodslag: 0\n",
      "Misdrijven tegen de openbare orde: 0\n",
      "Voorlopige hechtenis: 26\n",
      "Klacht niet vervolgen strafbaar feit: 0\n",
      "Straftoemeting: 2\n",
      "Volwassenenstrafrecht: 0\n",
      "Jeugdstrafrecht: 5\n",
      "Strafrechter kanton: 0\n",
      "Hoger beroep strafrecht: 0\n",
      "Voorwaardelijke invrijheidstelling (tot 1 juli 2021): 0\n",
      "Ontneming wederrechtelijk verkregen voordeel: 0\n",
      "Diefstal en inbraak: 0\n",
      "Voorwaardelijke invrijheidstelling (per 1 juli 2021): 0\n"
     ]
    },
    {
     "name": "stderr",
     "output_type": "stream",
     "text": [
      "/var/folders/1j/594ysy1n0rj3y014tj89mlm40000gn/T/ipykernel_42176/1627432504.py:23: UserWarning: This pattern is interpreted as a regular expression, and has match groups. To actually get the groups, use str.extract.\n",
      "  case_counts[case_type] = procesverloop_df['data'].str.contains(case_type, case=False, na=False).sum()\n"
     ]
    }
   ],
   "source": [
    "# The list of types of criminal cases\n",
    "criminal_case_types = [\n",
    "    'Verkeersovertredingen', 'Zedenmisdrijf', 'Fraude', \n",
    "    'Geweldsdelicten', 'Mishandeling', 'Kindermishandeling',\n",
    "    'Moord en doodslag', 'Misdrijven tegen de openbare orde', 'Voorlopige hechtenis',\n",
    "    'Klacht niet vervolgen strafbaar feit', 'Straftoemeting', 'Volwassenenstrafrecht',\n",
    "    'Jeugdstrafrecht', 'Strafrechter kanton', 'Hoger beroep strafrecht',\n",
    "    'Voorwaardelijke invrijheidstelling (tot 1 juli 2021)', 'Ontneming wederrechtelijk verkregen voordeel', 'Diefstal en inbraak',\n",
    "    'Voorwaardelijke invrijheidstelling (per 1 juli 2021)'\n",
    "]\n",
    "\n",
    "# Dictionary to keep track of the count of each case type\n",
    "case_counts = {case_type: 0 for case_type in criminal_case_types}\n",
    "\n",
    "# Filter the dataframe for rows where 'type' is equal to 'eis'\n",
    "eis_df = df[df['type'] == 'eis']\n",
    "\n",
    "# Loop over each type of court case and count its occurrences in the 'data' column\n",
    "for case_type in criminal_case_types:\n",
    "    case_counts[case_type] = eis_df['data'].str.contains(case_type, case=False, na=False).sum()\n",
    "\n",
    "for case_type, count in case_counts.items():\n",
    "    print(f\"{case_type}: {count}\")"
   ]
  },
  {
   "cell_type": "code",
   "execution_count": 41,
   "id": "156ed290-f3bb-4114-808d-6ae4e905e43c",
   "metadata": {},
   "outputs": [
    {
     "name": "stdout",
     "output_type": "stream",
     "text": [
      "Hoofdstraf: geldboete, Correlation: 0.7378872201768895\n",
      "Hoofdstraf: gevangenisstraf, Correlation: -0.167344230813827\n",
      "Hoofdstraf: taakstraf, Correlation: 0.5148834368231953\n",
      "Hoofdstraf: hechtenis, Correlation: -0.5861586408255264\n",
      "Hoofdstraf: TBS, Correlation: nan\n",
      "Hoofdstraf: vrijspraak, Correlation: 0.16879972116302586\n",
      "Hoofdstraf: nan, Correlation: nan\n"
     ]
    },
    {
     "name": "stderr",
     "output_type": "stream",
     "text": [
      "/Library/Frameworks/Python.framework/Versions/3.11/lib/python3.11/site-packages/numpy/lib/function_base.py:2897: RuntimeWarning: invalid value encountered in divide\n",
      "  c /= stddev[:, None]\n",
      "/Library/Frameworks/Python.framework/Versions/3.11/lib/python3.11/site-packages/numpy/lib/function_base.py:2898: RuntimeWarning: invalid value encountered in divide\n",
      "  c /= stddev[None, :]\n"
     ]
    }
   ],
   "source": [
    "# Calculate word count for each 'inleiding'\n",
    "df['word_count'] = df.apply(lambda x: len(x['data'].split()) if x['type'] == 'inleiding' else None, axis=1)\n",
    "\n",
    "# Map ECLI to 'straf_hoogte' for 'beslissing' rows\n",
    "straf_hoogte_map = df[df['type'] == 'beslissing'].set_index('ECLI')['straf_hoogte'].to_dict()\n",
    "\n",
    "new_rows = []\n",
    "\n",
    "# Iterate over each 'inleiding'\n",
    "for index, row in df[df['type'] == 'inleiding'].iterrows():\n",
    "    ecli = row['ECLI']\n",
    "    if ecli in straf_hoogte_map:\n",
    "        # Get 'hoofdstraf' for the current ECLI from 'beslissing' rows\n",
    "        hoofdstraf = df.loc[(df['ECLI'] == ecli) & (df['type'] == 'beslissing'), 'hoofdstraf'].iloc[0]\n",
    "        new_row = {\n",
    "            'ECLI': ecli,\n",
    "            'hoofdstraf': hoofdstraf,\n",
    "            'word_count': row['word_count'],\n",
    "            'straf_hoogte': straf_hoogte_map[ecli]\n",
    "        }\n",
    "        new_rows.append(new_row)\n",
    "\n",
    "# Create a new DataFrame from the list of dictionaries\n",
    "analysis_df = pd.DataFrame(new_rows)\n",
    "\n",
    "# Calculation of correlation for each 'hoofdstraf'\n",
    "results = {}\n",
    "for hoofdstraf in analysis_df['hoofdstraf'].unique():\n",
    "    subset = analysis_df[analysis_df['hoofdstraf'] == hoofdstraf]\n",
    "    correlation = subset['word_count'].corr(subset['straf_hoogte'])\n",
    "    results[hoofdstraf] = correlation\n",
    "\n",
    "for key, value in results.items():\n",
    "    print(f\"Hoofdstraf: {key}, Correlation: {value}\")"
   ]
  }
 ],
 "metadata": {
  "kernelspec": {
   "display_name": "Python 3 (ipykernel)",
   "language": "python",
   "name": "python3"
  },
  "language_info": {
   "codemirror_mode": {
    "name": "ipython",
    "version": 3
   },
   "file_extension": ".py",
   "mimetype": "text/x-python",
   "name": "python",
   "nbconvert_exporter": "python",
   "pygments_lexer": "ipython3",
   "version": "3.11.5"
  },
  "vscode": {
   "interpreter": {
    "hash": "f4bc7a400e35f160b13ed52195005e41b219907c1be09b125a1c17e685484faa"
   }
  }
 },
 "nbformat": 4,
 "nbformat_minor": 5
}
